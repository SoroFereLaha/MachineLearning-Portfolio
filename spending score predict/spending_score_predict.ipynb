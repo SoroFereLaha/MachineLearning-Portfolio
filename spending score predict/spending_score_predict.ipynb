{
 "cells": [
  {
   "cell_type": "code",
   "execution_count": 58,
   "id": "4eb12710",
   "metadata": {},
   "outputs": [],
   "source": [
    "import pandas as pd\n",
    "import numpy as np\n",
    "from sklearn.cluster import KMeans\n",
    "from sklearn.preprocessing import StandardScaler, LabelEncoder\n",
    "import matplotlib.pyplot as plt\n",
    "import plotly.express as px"
   ]
  },
  {
   "cell_type": "code",
   "execution_count": 59,
   "id": "23a1b694",
   "metadata": {},
   "outputs": [],
   "source": [
    "def charger_dataset(filename):\n",
    "    try:\n",
    "        data = pd.read_csv(filename)\n",
    "        return data\n",
    "    except Exception as e:\n",
    "        print(f\"Erreur lors du chargement du dataset: {e}\")\n",
    "        return None"
   ]
  },
  {
   "cell_type": "code",
   "execution_count": 60,
   "id": "f029dcc3",
   "metadata": {},
   "outputs": [
    {
     "data": {
      "text/html": [
       "<div>\n",
       "<style scoped>\n",
       "    .dataframe tbody tr th:only-of-type {\n",
       "        vertical-align: middle;\n",
       "    }\n",
       "\n",
       "    .dataframe tbody tr th {\n",
       "        vertical-align: top;\n",
       "    }\n",
       "\n",
       "    .dataframe thead th {\n",
       "        text-align: right;\n",
       "    }\n",
       "</style>\n",
       "<table border=\"1\" class=\"dataframe\">\n",
       "  <thead>\n",
       "    <tr style=\"text-align: right;\">\n",
       "      <th></th>\n",
       "      <th>CustomerID</th>\n",
       "      <th>Gender</th>\n",
       "      <th>Age</th>\n",
       "      <th>Annual Income (k$)</th>\n",
       "      <th>Spending Score (1-100)</th>\n",
       "    </tr>\n",
       "  </thead>\n",
       "  <tbody>\n",
       "    <tr>\n",
       "      <th>0</th>\n",
       "      <td>1</td>\n",
       "      <td>Male</td>\n",
       "      <td>19</td>\n",
       "      <td>15</td>\n",
       "      <td>39</td>\n",
       "    </tr>\n",
       "    <tr>\n",
       "      <th>1</th>\n",
       "      <td>2</td>\n",
       "      <td>Male</td>\n",
       "      <td>21</td>\n",
       "      <td>15</td>\n",
       "      <td>81</td>\n",
       "    </tr>\n",
       "    <tr>\n",
       "      <th>2</th>\n",
       "      <td>3</td>\n",
       "      <td>Female</td>\n",
       "      <td>20</td>\n",
       "      <td>16</td>\n",
       "      <td>6</td>\n",
       "    </tr>\n",
       "    <tr>\n",
       "      <th>3</th>\n",
       "      <td>4</td>\n",
       "      <td>Female</td>\n",
       "      <td>23</td>\n",
       "      <td>16</td>\n",
       "      <td>77</td>\n",
       "    </tr>\n",
       "    <tr>\n",
       "      <th>4</th>\n",
       "      <td>5</td>\n",
       "      <td>Female</td>\n",
       "      <td>31</td>\n",
       "      <td>17</td>\n",
       "      <td>40</td>\n",
       "    </tr>\n",
       "  </tbody>\n",
       "</table>\n",
       "</div>"
      ],
      "text/plain": [
       "   CustomerID  Gender  Age  Annual Income (k$)  Spending Score (1-100)\n",
       "0           1    Male   19                  15                      39\n",
       "1           2    Male   21                  15                      81\n",
       "2           3  Female   20                  16                       6\n",
       "3           4  Female   23                  16                      77\n",
       "4           5  Female   31                  17                      40"
      ]
     },
     "execution_count": 60,
     "metadata": {},
     "output_type": "execute_result"
    }
   ],
   "source": [
    "filename = r\"C:\\Users\\pc\\Downloads\\BIBDA\\S3\\Intelligence Artificielle 2\\TP 3 - Enonce\\spending score predict\\spending score predict.csv\"\n",
    "data = charger_dataset(filename)\n",
    "data.head()"
   ]
  },
  {
   "cell_type": "code",
   "execution_count": 61,
   "id": "4e0a5d83",
   "metadata": {},
   "outputs": [],
   "source": [
    "def pretraitement_data(df):\n",
    "    \"\"\"\n",
    "    Prétraite les données en sélectionnant les variables pertinentes et en les normalisant.\n",
    "    \n",
    "    Parameters:\n",
    "    -----------\n",
    "    df : pandas.DataFrame\n",
    "        Le DataFrame contenant les données brutes\n",
    "    \n",
    "    Returns:\n",
    "    --------\n",
    "    pandas.DataFrame\n",
    "        Le DataFrame avec les données prétraitées\n",
    "    sklearn.preprocessing.StandardScaler\n",
    "        Le scaler utilisé pour la normalisation\n",
    "    \"\"\"\n",
    "    try:\n",
    "        # Copie du DataFrame pour éviter de modifier l'original\n",
    "        df_prep = df.copy()\n",
    "        \n",
    "        # Sélection des variables pertinentes\n",
    "        selected_features = ['Age', 'Gender', 'Annual Income (k$)']\n",
    "        df_prep = df_prep[selected_features]\n",
    "        \n",
    "        # Conversion de la variable catégorielle 'Gender' en numérique\n",
    "        label_encoder = LabelEncoder()\n",
    "        df_prep['Gender'] = label_encoder.fit_transform(df_prep['Gender'])\n",
    "        \n",
    "        # Création du scaler\n",
    "        scaler = StandardScaler()\n",
    "        \n",
    "        # Normalisation des données\n",
    "        columns_to_scale = ['Age', 'Annual Income (k$)', 'Gender']\n",
    "        df_scaled = pd.DataFrame(scaler.fit_transform(df_prep[columns_to_scale]), \n",
    "                               columns=columns_to_scale,\n",
    "                               index=df_prep.index)\n",
    "        \n",
    "        return df_scaled, scaler\n",
    "    \n",
    "    except Exception as e:\n",
    "        print(f\"Erreur lors du prétraitement: {str(e)}\")\n",
    "        return None, None"
   ]
  },
  {
   "cell_type": "code",
   "execution_count": 112,
   "id": "7a9d70ee",
   "metadata": {},
   "outputs": [
    {
     "name": "stdout",
     "output_type": "stream",
     "text": [
      "          Age  Annual Income (k$)    Gender\n",
      "0   -1.424569           -1.738999  1.128152\n",
      "1   -1.281035           -1.738999  1.128152\n",
      "2   -1.352802           -1.700830 -0.886405\n",
      "3   -1.137502           -1.700830 -0.886405\n",
      "4   -0.563369           -1.662660 -0.886405\n",
      "..        ...                 ...       ...\n",
      "195 -0.276302            2.268791 -0.886405\n",
      "196  0.441365            2.497807 -0.886405\n",
      "197 -0.491602            2.497807  1.128152\n",
      "198 -0.491602            2.917671  1.128152\n",
      "199 -0.635135            2.917671  1.128152\n",
      "\n",
      "[200 rows x 3 columns]\n"
     ]
    }
   ],
   "source": [
    "data_pre, scaler = pretraitement_data(data)\n",
    "print(data_pre)"
   ]
  },
  {
   "cell_type": "code",
   "execution_count": 113,
   "id": "dc1c3c1f",
   "metadata": {},
   "outputs": [],
   "source": [
    "def application_kmeans(data_pre, n_clusters):\n",
    "    try:\n",
    "        # Vérifier le type et la forme des données d'entrée\n",
    "        if isinstance(data_pre, tuple):\n",
    "            # Si les données sont passées sous forme de tuple, on extrait le premier élément\n",
    "            data_pre = data_pre[0]\n",
    "        \n",
    "        if isinstance(data_pre, pd.DataFrame):\n",
    "            # Si les données sont un DataFrame, on les convertit en tableau NumPy\n",
    "            data_pre = data_pre.to_numpy()\n",
    "        \n",
    "        # Vérifier que les données ont une forme 2D\n",
    "        if data_pre.ndim == 1:\n",
    "            data_pre = data_pre.reshape(-1, 1)\n",
    "        \n",
    "        # Création et entraînement du modèle K-Means\n",
    "        kmeans = KMeans(n_clusters=n_clusters, random_state=42, n_init=10)\n",
    "        labels = kmeans.fit_predict(data_pre)\n",
    "        \n",
    "        # Affichage de tous les résultats de clustering\n",
    "        np.set_printoptions(threshold=np.inf)\n",
    "        print(labels)\n",
    "        \n",
    "        return labels\n",
    "    \n",
    "    except Exception as e:\n",
    "        print(f\"Erreur lors de l'application de K-Means: {str(e)}\")\n",
    "        return None"
   ]
  },
  {
   "cell_type": "code",
   "execution_count": 114,
   "id": "05203d91",
   "metadata": {},
   "outputs": [
    {
     "name": "stderr",
     "output_type": "stream",
     "text": [
      "C:\\Users\\pc\\anaconda3\\Lib\\site-packages\\sklearn\\cluster\\_kmeans.py:1436: UserWarning:\n",
      "\n",
      "KMeans is known to have a memory leak on Windows with MKL, when there are less chunks than available threads. You can avoid it by setting the environment variable OMP_NUM_THREADS=1.\n",
      "\n"
     ]
    },
    {
     "name": "stdout",
     "output_type": "stream",
     "text": [
      "[3 3 2 2 2 2 2 2 1 2 1 2 2 2 3 3 2 3 1 2 3 3 2 3 2 3 2 3 2 2 1 2 1 3 2 2 2\n",
      " 2 2 2 1 3 1 2 2 2 2 2 2 2 2 3 2 1 2 1 2 1 2 1 1 3 1 2 1 3 2 1 3 2 1 2 1 1\n",
      " 1 3 2 3 2 2 1 3 1 2 2 1 0 2 2 0 1 3 1 0 2 3 0 2 1 3 2 0 1 3 1 2 1 1 1 1 1\n",
      " 2 0 3 2 2 1 0 0 0 3 0 0 3 0 0 3 3 1 3 1 3 0 0 3 0 0 3 3 0 0 3 0 0 3 3 1 0\n",
      " 0 3 3 3 0 0 0 0 3 0 3 0 0 0 3 0 1 0 3 0 0 3 3 3 3 3 0 0 1 3 1 3 0 0 3 0 0\n",
      " 3 0 3 0 0 0 0 3 0 0 0 0 3 3 3]\n"
     ]
    }
   ],
   "source": [
    "labels = application_kmeans(data_pre,4)\n",
    "#print(labels)"
   ]
  },
  {
   "cell_type": "code",
   "execution_count": 115,
   "id": "c2ea9052",
   "metadata": {},
   "outputs": [],
   "source": [
    "def visualize_clusters(data, labels, n_clusters):\n",
    "    \"\"\"\n",
    "    Visualise les clusters créés par KMeans.\n",
    "    Cette fonction crée une matrice de diagrammes de dispersion pour visualiser les relations entre les variables et la classification.\n",
    "    Args:\n",
    "        data: Le DataFrame original avec les données.\n",
    "        labels: Les étiquettes de cluster attribuées par KMeans.\n",
    "        n_clusters: Le nombre de clusters.\n",
    "\n",
    "    \"\"\"\n",
    "    features_to_plot = ['Age', 'Annual Income (k$)', 'Gender'] # pour la visualisation\n",
    "    try:\n",
    "        data_with_clusters = data.copy()\n",
    "        data_with_clusters['cluster'] = labels\n",
    "\n",
    "\n",
    "        # Visualisation (Scatter Matrix avec Plotly) \n",
    "        fig = px.scatter_matrix(data_with_clusters, \n",
    "                                dimensions=features_to_plot, \n",
    "                                color='cluster',\n",
    "                                hover_data=['Spending Score (1-100)'], \n",
    "                                title=f'Clusters (k={n_clusters})')\n",
    "        fig.show()\n",
    "    except Exception as e:\n",
    "        print(f\"Erreur lors de la visualisation: {e}\")\n"
   ]
  },
  {
   "cell_type": "code",
   "execution_count": 116,
   "id": "b6fb7b28",
   "metadata": {},
   "outputs": [
    {
     "data": {
      "application/vnd.plotly.v1+json": {
       "config": {
        "plotlyServerURL": "https://plot.ly"
       },
       "data": [
        {
         "customdata": [
          [
           39
          ],
          [
           81
          ],
          [
           6
          ],
          [
           77
          ],
          [
           40
          ],
          [
           76
          ],
          [
           6
          ],
          [
           94
          ],
          [
           3
          ],
          [
           72
          ],
          [
           14
          ],
          [
           99
          ],
          [
           15
          ],
          [
           77
          ],
          [
           13
          ],
          [
           79
          ],
          [
           35
          ],
          [
           66
          ],
          [
           29
          ],
          [
           98
          ],
          [
           35
          ],
          [
           73
          ],
          [
           5
          ],
          [
           73
          ],
          [
           14
          ],
          [
           82
          ],
          [
           32
          ],
          [
           61
          ],
          [
           31
          ],
          [
           87
          ],
          [
           4
          ],
          [
           73
          ],
          [
           4
          ],
          [
           92
          ],
          [
           14
          ],
          [
           81
          ],
          [
           17
          ],
          [
           73
          ],
          [
           26
          ],
          [
           75
          ],
          [
           35
          ],
          [
           92
          ],
          [
           36
          ],
          [
           61
          ],
          [
           28
          ],
          [
           65
          ],
          [
           55
          ],
          [
           47
          ],
          [
           42
          ],
          [
           42
          ],
          [
           52
          ],
          [
           60
          ],
          [
           54
          ],
          [
           60
          ],
          [
           45
          ],
          [
           41
          ],
          [
           50
          ],
          [
           46
          ],
          [
           51
          ],
          [
           46
          ],
          [
           56
          ],
          [
           55
          ],
          [
           52
          ],
          [
           59
          ],
          [
           51
          ],
          [
           59
          ],
          [
           50
          ],
          [
           48
          ],
          [
           59
          ],
          [
           47
          ],
          [
           55
          ],
          [
           42
          ],
          [
           49
          ],
          [
           56
          ],
          [
           47
          ],
          [
           54
          ],
          [
           53
          ],
          [
           48
          ],
          [
           52
          ],
          [
           42
          ],
          [
           51
          ],
          [
           55
          ],
          [
           41
          ],
          [
           44
          ],
          [
           57
          ],
          [
           46
          ],
          [
           58
          ],
          [
           55
          ],
          [
           60
          ],
          [
           46
          ],
          [
           55
          ],
          [
           41
          ],
          [
           49
          ],
          [
           40
          ],
          [
           42
          ],
          [
           52
          ],
          [
           47
          ],
          [
           50
          ],
          [
           42
          ],
          [
           49
          ],
          [
           41
          ],
          [
           48
          ],
          [
           59
          ],
          [
           55
          ],
          [
           56
          ],
          [
           42
          ],
          [
           50
          ],
          [
           46
          ],
          [
           43
          ],
          [
           48
          ],
          [
           52
          ],
          [
           54
          ],
          [
           42
          ],
          [
           46
          ],
          [
           48
          ],
          [
           50
          ],
          [
           43
          ],
          [
           59
          ],
          [
           43
          ],
          [
           57
          ],
          [
           56
          ],
          [
           40
          ],
          [
           58
          ],
          [
           91
          ],
          [
           29
          ],
          [
           77
          ],
          [
           35
          ],
          [
           95
          ],
          [
           11
          ],
          [
           75
          ],
          [
           9
          ],
          [
           75
          ],
          [
           34
          ],
          [
           71
          ],
          [
           5
          ],
          [
           88
          ],
          [
           7
          ],
          [
           73
          ],
          [
           10
          ],
          [
           72
          ],
          [
           5
          ],
          [
           93
          ],
          [
           40
          ],
          [
           87
          ],
          [
           12
          ],
          [
           97
          ],
          [
           36
          ],
          [
           74
          ],
          [
           22
          ],
          [
           90
          ],
          [
           17
          ],
          [
           88
          ],
          [
           20
          ],
          [
           76
          ],
          [
           16
          ],
          [
           89
          ],
          [
           1
          ],
          [
           78
          ],
          [
           1
          ],
          [
           73
          ],
          [
           35
          ],
          [
           83
          ],
          [
           5
          ],
          [
           93
          ],
          [
           26
          ],
          [
           75
          ],
          [
           20
          ],
          [
           95
          ],
          [
           27
          ],
          [
           63
          ],
          [
           13
          ],
          [
           75
          ],
          [
           10
          ],
          [
           92
          ],
          [
           13
          ],
          [
           86
          ],
          [
           15
          ],
          [
           69
          ],
          [
           14
          ],
          [
           90
          ],
          [
           32
          ],
          [
           86
          ],
          [
           15
          ],
          [
           88
          ],
          [
           39
          ],
          [
           97
          ],
          [
           24
          ],
          [
           68
          ],
          [
           17
          ],
          [
           85
          ],
          [
           23
          ],
          [
           69
          ],
          [
           8
          ],
          [
           91
          ],
          [
           16
          ],
          [
           79
          ],
          [
           28
          ],
          [
           74
          ],
          [
           18
          ],
          [
           83
          ]
         ],
         "dimensions": [
          {
           "axis": {
            "matches": true
           },
           "label": "Age",
           "values": [
            19,
            21,
            20,
            23,
            31,
            22,
            35,
            23,
            64,
            30,
            67,
            35,
            58,
            24,
            37,
            22,
            35,
            20,
            52,
            35,
            35,
            25,
            46,
            31,
            54,
            29,
            45,
            35,
            40,
            23,
            60,
            21,
            53,
            18,
            49,
            21,
            42,
            30,
            36,
            20,
            65,
            24,
            48,
            31,
            49,
            24,
            50,
            27,
            29,
            31,
            49,
            33,
            31,
            59,
            50,
            47,
            51,
            69,
            27,
            53,
            70,
            19,
            67,
            54,
            63,
            18,
            43,
            68,
            19,
            32,
            70,
            47,
            60,
            60,
            59,
            26,
            45,
            40,
            23,
            49,
            57,
            38,
            67,
            46,
            21,
            48,
            55,
            22,
            34,
            50,
            68,
            18,
            48,
            40,
            32,
            24,
            47,
            27,
            48,
            20,
            23,
            49,
            67,
            26,
            49,
            21,
            66,
            54,
            68,
            66,
            65,
            19,
            38,
            19,
            18,
            19,
            63,
            49,
            51,
            50,
            27,
            38,
            40,
            39,
            23,
            31,
            43,
            40,
            59,
            38,
            47,
            39,
            25,
            31,
            20,
            29,
            44,
            32,
            19,
            35,
            57,
            32,
            28,
            32,
            25,
            28,
            48,
            32,
            34,
            34,
            43,
            39,
            44,
            38,
            47,
            27,
            37,
            30,
            34,
            30,
            56,
            29,
            19,
            31,
            50,
            36,
            42,
            33,
            36,
            32,
            40,
            28,
            36,
            36,
            52,
            30,
            58,
            27,
            59,
            35,
            37,
            32,
            46,
            29,
            41,
            30,
            54,
            28,
            41,
            36,
            34,
            32,
            33,
            38,
            47,
            35,
            45,
            32,
            32,
            30
           ]
          },
          {
           "axis": {
            "matches": true
           },
           "label": "Annual Income (k$)",
           "values": [
            15,
            15,
            16,
            16,
            17,
            17,
            18,
            18,
            19,
            19,
            19,
            19,
            20,
            20,
            20,
            20,
            21,
            21,
            23,
            23,
            24,
            24,
            25,
            25,
            28,
            28,
            28,
            28,
            29,
            29,
            30,
            30,
            33,
            33,
            33,
            33,
            34,
            34,
            37,
            37,
            38,
            38,
            39,
            39,
            39,
            39,
            40,
            40,
            40,
            40,
            42,
            42,
            43,
            43,
            43,
            43,
            44,
            44,
            46,
            46,
            46,
            46,
            47,
            47,
            48,
            48,
            48,
            48,
            48,
            48,
            49,
            49,
            50,
            50,
            54,
            54,
            54,
            54,
            54,
            54,
            54,
            54,
            54,
            54,
            54,
            54,
            57,
            57,
            58,
            58,
            59,
            59,
            60,
            60,
            60,
            60,
            60,
            60,
            61,
            61,
            62,
            62,
            62,
            62,
            62,
            62,
            63,
            63,
            63,
            63,
            63,
            63,
            64,
            64,
            65,
            65,
            65,
            65,
            67,
            67,
            67,
            67,
            69,
            69,
            70,
            70,
            71,
            71,
            71,
            71,
            71,
            71,
            72,
            72,
            73,
            73,
            73,
            73,
            74,
            74,
            75,
            75,
            76,
            76,
            77,
            77,
            77,
            77,
            78,
            78,
            78,
            78,
            78,
            78,
            78,
            78,
            78,
            78,
            78,
            78,
            79,
            79,
            81,
            81,
            85,
            85,
            86,
            86,
            87,
            87,
            87,
            87,
            87,
            87,
            88,
            88,
            88,
            88,
            93,
            93,
            97,
            97,
            98,
            98,
            99,
            99,
            101,
            101,
            103,
            103,
            103,
            103,
            113,
            113,
            120,
            120,
            126,
            126,
            137,
            137
           ]
          },
          {
           "axis": {
            "matches": true
           },
           "label": "Gender",
           "values": [
            "Male",
            "Male",
            "Female",
            "Female",
            "Female",
            "Female",
            "Female",
            "Female",
            "Male",
            "Female",
            "Male",
            "Female",
            "Female",
            "Female",
            "Male",
            "Male",
            "Female",
            "Male",
            "Male",
            "Female",
            "Male",
            "Male",
            "Female",
            "Male",
            "Female",
            "Male",
            "Female",
            "Male",
            "Female",
            "Female",
            "Male",
            "Female",
            "Male",
            "Male",
            "Female",
            "Female",
            "Female",
            "Female",
            "Female",
            "Female",
            "Female",
            "Male",
            "Male",
            "Female",
            "Female",
            "Female",
            "Female",
            "Female",
            "Female",
            "Female",
            "Female",
            "Male",
            "Female",
            "Male",
            "Female",
            "Male",
            "Female",
            "Male",
            "Female",
            "Male",
            "Male",
            "Male",
            "Female",
            "Female",
            "Male",
            "Male",
            "Female",
            "Female",
            "Male",
            "Female",
            "Male",
            "Female",
            "Female",
            "Female",
            "Male",
            "Male",
            "Female",
            "Male",
            "Female",
            "Female",
            "Male",
            "Male",
            "Male",
            "Female",
            "Female",
            "Male",
            "Female",
            "Female",
            "Female",
            "Female",
            "Female",
            "Male",
            "Male",
            "Female",
            "Female",
            "Male",
            "Female",
            "Female",
            "Male",
            "Male",
            "Female",
            "Female",
            "Male",
            "Male",
            "Male",
            "Female",
            "Female",
            "Male",
            "Male",
            "Male",
            "Male",
            "Female",
            "Female",
            "Male",
            "Female",
            "Female",
            "Female",
            "Female",
            "Female",
            "Female",
            "Male",
            "Female",
            "Female",
            "Male",
            "Female",
            "Female",
            "Male",
            "Male",
            "Male",
            "Male",
            "Male",
            "Male",
            "Female",
            "Female",
            "Male",
            "Female",
            "Female",
            "Male",
            "Male",
            "Female",
            "Female",
            "Male",
            "Female",
            "Female",
            "Male",
            "Male",
            "Male",
            "Female",
            "Female",
            "Male",
            "Male",
            "Male",
            "Female",
            "Female",
            "Female",
            "Female",
            "Male",
            "Female",
            "Male",
            "Female",
            "Female",
            "Female",
            "Male",
            "Female",
            "Male",
            "Female",
            "Male",
            "Female",
            "Female",
            "Male",
            "Male",
            "Male",
            "Male",
            "Male",
            "Female",
            "Female",
            "Male",
            "Male",
            "Male",
            "Male",
            "Female",
            "Female",
            "Male",
            "Female",
            "Female",
            "Male",
            "Female",
            "Male",
            "Female",
            "Female",
            "Female",
            "Female",
            "Male",
            "Female",
            "Female",
            "Female",
            "Female",
            "Male",
            "Male",
            "Male"
           ]
          }
         ],
         "hovertemplate": "%{xaxis.title.text}=%{x}<br>%{yaxis.title.text}=%{y}<br>Spending Score (1-100)=%{customdata[0]}<br>cluster=%{marker.color}<extra></extra>",
         "legendgroup": "",
         "marker": {
          "color": [
           3,
           3,
           2,
           2,
           2,
           2,
           2,
           2,
           1,
           2,
           1,
           2,
           2,
           2,
           3,
           3,
           2,
           3,
           1,
           2,
           3,
           3,
           2,
           3,
           2,
           3,
           2,
           3,
           2,
           2,
           1,
           2,
           1,
           3,
           2,
           2,
           2,
           2,
           2,
           2,
           1,
           3,
           1,
           2,
           2,
           2,
           2,
           2,
           2,
           2,
           2,
           3,
           2,
           1,
           2,
           1,
           2,
           1,
           2,
           1,
           1,
           3,
           1,
           2,
           1,
           3,
           2,
           1,
           3,
           2,
           1,
           2,
           1,
           1,
           1,
           3,
           2,
           3,
           2,
           2,
           1,
           3,
           1,
           2,
           2,
           1,
           0,
           2,
           2,
           0,
           1,
           3,
           1,
           0,
           2,
           3,
           0,
           2,
           1,
           3,
           2,
           0,
           1,
           3,
           1,
           2,
           1,
           1,
           1,
           1,
           1,
           2,
           0,
           3,
           2,
           2,
           1,
           0,
           0,
           0,
           3,
           0,
           0,
           3,
           0,
           0,
           3,
           3,
           1,
           3,
           1,
           3,
           0,
           0,
           3,
           0,
           0,
           3,
           3,
           0,
           0,
           3,
           0,
           0,
           3,
           3,
           1,
           0,
           0,
           3,
           3,
           3,
           0,
           0,
           0,
           0,
           3,
           0,
           3,
           0,
           0,
           0,
           3,
           0,
           1,
           0,
           3,
           0,
           0,
           3,
           3,
           3,
           3,
           3,
           0,
           0,
           1,
           3,
           1,
           3,
           0,
           0,
           3,
           0,
           0,
           3,
           0,
           3,
           0,
           0,
           0,
           0,
           3,
           0,
           0,
           0,
           0,
           3,
           3,
           3
          ],
          "coloraxis": "coloraxis",
          "symbol": "circle"
         },
         "name": "",
         "showlegend": false,
         "type": "splom"
        }
       ],
       "layout": {
        "coloraxis": {
         "colorbar": {
          "title": {
           "text": "cluster"
          }
         },
         "colorscale": [
          [
           0,
           "#0d0887"
          ],
          [
           0.1111111111111111,
           "#46039f"
          ],
          [
           0.2222222222222222,
           "#7201a8"
          ],
          [
           0.3333333333333333,
           "#9c179e"
          ],
          [
           0.4444444444444444,
           "#bd3786"
          ],
          [
           0.5555555555555556,
           "#d8576b"
          ],
          [
           0.6666666666666666,
           "#ed7953"
          ],
          [
           0.7777777777777778,
           "#fb9f3a"
          ],
          [
           0.8888888888888888,
           "#fdca26"
          ],
          [
           1,
           "#f0f921"
          ]
         ]
        },
        "dragmode": "select",
        "legend": {
         "tracegroupgap": 0
        },
        "template": {
         "data": {
          "bar": [
           {
            "error_x": {
             "color": "#2a3f5f"
            },
            "error_y": {
             "color": "#2a3f5f"
            },
            "marker": {
             "line": {
              "color": "#E5ECF6",
              "width": 0.5
             },
             "pattern": {
              "fillmode": "overlay",
              "size": 10,
              "solidity": 0.2
             }
            },
            "type": "bar"
           }
          ],
          "barpolar": [
           {
            "marker": {
             "line": {
              "color": "#E5ECF6",
              "width": 0.5
             },
             "pattern": {
              "fillmode": "overlay",
              "size": 10,
              "solidity": 0.2
             }
            },
            "type": "barpolar"
           }
          ],
          "carpet": [
           {
            "aaxis": {
             "endlinecolor": "#2a3f5f",
             "gridcolor": "white",
             "linecolor": "white",
             "minorgridcolor": "white",
             "startlinecolor": "#2a3f5f"
            },
            "baxis": {
             "endlinecolor": "#2a3f5f",
             "gridcolor": "white",
             "linecolor": "white",
             "minorgridcolor": "white",
             "startlinecolor": "#2a3f5f"
            },
            "type": "carpet"
           }
          ],
          "choropleth": [
           {
            "colorbar": {
             "outlinewidth": 0,
             "ticks": ""
            },
            "type": "choropleth"
           }
          ],
          "contour": [
           {
            "colorbar": {
             "outlinewidth": 0,
             "ticks": ""
            },
            "colorscale": [
             [
              0,
              "#0d0887"
             ],
             [
              0.1111111111111111,
              "#46039f"
             ],
             [
              0.2222222222222222,
              "#7201a8"
             ],
             [
              0.3333333333333333,
              "#9c179e"
             ],
             [
              0.4444444444444444,
              "#bd3786"
             ],
             [
              0.5555555555555556,
              "#d8576b"
             ],
             [
              0.6666666666666666,
              "#ed7953"
             ],
             [
              0.7777777777777778,
              "#fb9f3a"
             ],
             [
              0.8888888888888888,
              "#fdca26"
             ],
             [
              1,
              "#f0f921"
             ]
            ],
            "type": "contour"
           }
          ],
          "contourcarpet": [
           {
            "colorbar": {
             "outlinewidth": 0,
             "ticks": ""
            },
            "type": "contourcarpet"
           }
          ],
          "heatmap": [
           {
            "colorbar": {
             "outlinewidth": 0,
             "ticks": ""
            },
            "colorscale": [
             [
              0,
              "#0d0887"
             ],
             [
              0.1111111111111111,
              "#46039f"
             ],
             [
              0.2222222222222222,
              "#7201a8"
             ],
             [
              0.3333333333333333,
              "#9c179e"
             ],
             [
              0.4444444444444444,
              "#bd3786"
             ],
             [
              0.5555555555555556,
              "#d8576b"
             ],
             [
              0.6666666666666666,
              "#ed7953"
             ],
             [
              0.7777777777777778,
              "#fb9f3a"
             ],
             [
              0.8888888888888888,
              "#fdca26"
             ],
             [
              1,
              "#f0f921"
             ]
            ],
            "type": "heatmap"
           }
          ],
          "heatmapgl": [
           {
            "colorbar": {
             "outlinewidth": 0,
             "ticks": ""
            },
            "colorscale": [
             [
              0,
              "#0d0887"
             ],
             [
              0.1111111111111111,
              "#46039f"
             ],
             [
              0.2222222222222222,
              "#7201a8"
             ],
             [
              0.3333333333333333,
              "#9c179e"
             ],
             [
              0.4444444444444444,
              "#bd3786"
             ],
             [
              0.5555555555555556,
              "#d8576b"
             ],
             [
              0.6666666666666666,
              "#ed7953"
             ],
             [
              0.7777777777777778,
              "#fb9f3a"
             ],
             [
              0.8888888888888888,
              "#fdca26"
             ],
             [
              1,
              "#f0f921"
             ]
            ],
            "type": "heatmapgl"
           }
          ],
          "histogram": [
           {
            "marker": {
             "pattern": {
              "fillmode": "overlay",
              "size": 10,
              "solidity": 0.2
             }
            },
            "type": "histogram"
           }
          ],
          "histogram2d": [
           {
            "colorbar": {
             "outlinewidth": 0,
             "ticks": ""
            },
            "colorscale": [
             [
              0,
              "#0d0887"
             ],
             [
              0.1111111111111111,
              "#46039f"
             ],
             [
              0.2222222222222222,
              "#7201a8"
             ],
             [
              0.3333333333333333,
              "#9c179e"
             ],
             [
              0.4444444444444444,
              "#bd3786"
             ],
             [
              0.5555555555555556,
              "#d8576b"
             ],
             [
              0.6666666666666666,
              "#ed7953"
             ],
             [
              0.7777777777777778,
              "#fb9f3a"
             ],
             [
              0.8888888888888888,
              "#fdca26"
             ],
             [
              1,
              "#f0f921"
             ]
            ],
            "type": "histogram2d"
           }
          ],
          "histogram2dcontour": [
           {
            "colorbar": {
             "outlinewidth": 0,
             "ticks": ""
            },
            "colorscale": [
             [
              0,
              "#0d0887"
             ],
             [
              0.1111111111111111,
              "#46039f"
             ],
             [
              0.2222222222222222,
              "#7201a8"
             ],
             [
              0.3333333333333333,
              "#9c179e"
             ],
             [
              0.4444444444444444,
              "#bd3786"
             ],
             [
              0.5555555555555556,
              "#d8576b"
             ],
             [
              0.6666666666666666,
              "#ed7953"
             ],
             [
              0.7777777777777778,
              "#fb9f3a"
             ],
             [
              0.8888888888888888,
              "#fdca26"
             ],
             [
              1,
              "#f0f921"
             ]
            ],
            "type": "histogram2dcontour"
           }
          ],
          "mesh3d": [
           {
            "colorbar": {
             "outlinewidth": 0,
             "ticks": ""
            },
            "type": "mesh3d"
           }
          ],
          "parcoords": [
           {
            "line": {
             "colorbar": {
              "outlinewidth": 0,
              "ticks": ""
             }
            },
            "type": "parcoords"
           }
          ],
          "pie": [
           {
            "automargin": true,
            "type": "pie"
           }
          ],
          "scatter": [
           {
            "fillpattern": {
             "fillmode": "overlay",
             "size": 10,
             "solidity": 0.2
            },
            "type": "scatter"
           }
          ],
          "scatter3d": [
           {
            "line": {
             "colorbar": {
              "outlinewidth": 0,
              "ticks": ""
             }
            },
            "marker": {
             "colorbar": {
              "outlinewidth": 0,
              "ticks": ""
             }
            },
            "type": "scatter3d"
           }
          ],
          "scattercarpet": [
           {
            "marker": {
             "colorbar": {
              "outlinewidth": 0,
              "ticks": ""
             }
            },
            "type": "scattercarpet"
           }
          ],
          "scattergeo": [
           {
            "marker": {
             "colorbar": {
              "outlinewidth": 0,
              "ticks": ""
             }
            },
            "type": "scattergeo"
           }
          ],
          "scattergl": [
           {
            "marker": {
             "colorbar": {
              "outlinewidth": 0,
              "ticks": ""
             }
            },
            "type": "scattergl"
           }
          ],
          "scattermapbox": [
           {
            "marker": {
             "colorbar": {
              "outlinewidth": 0,
              "ticks": ""
             }
            },
            "type": "scattermapbox"
           }
          ],
          "scatterpolar": [
           {
            "marker": {
             "colorbar": {
              "outlinewidth": 0,
              "ticks": ""
             }
            },
            "type": "scatterpolar"
           }
          ],
          "scatterpolargl": [
           {
            "marker": {
             "colorbar": {
              "outlinewidth": 0,
              "ticks": ""
             }
            },
            "type": "scatterpolargl"
           }
          ],
          "scatterternary": [
           {
            "marker": {
             "colorbar": {
              "outlinewidth": 0,
              "ticks": ""
             }
            },
            "type": "scatterternary"
           }
          ],
          "surface": [
           {
            "colorbar": {
             "outlinewidth": 0,
             "ticks": ""
            },
            "colorscale": [
             [
              0,
              "#0d0887"
             ],
             [
              0.1111111111111111,
              "#46039f"
             ],
             [
              0.2222222222222222,
              "#7201a8"
             ],
             [
              0.3333333333333333,
              "#9c179e"
             ],
             [
              0.4444444444444444,
              "#bd3786"
             ],
             [
              0.5555555555555556,
              "#d8576b"
             ],
             [
              0.6666666666666666,
              "#ed7953"
             ],
             [
              0.7777777777777778,
              "#fb9f3a"
             ],
             [
              0.8888888888888888,
              "#fdca26"
             ],
             [
              1,
              "#f0f921"
             ]
            ],
            "type": "surface"
           }
          ],
          "table": [
           {
            "cells": {
             "fill": {
              "color": "#EBF0F8"
             },
             "line": {
              "color": "white"
             }
            },
            "header": {
             "fill": {
              "color": "#C8D4E3"
             },
             "line": {
              "color": "white"
             }
            },
            "type": "table"
           }
          ]
         },
         "layout": {
          "annotationdefaults": {
           "arrowcolor": "#2a3f5f",
           "arrowhead": 0,
           "arrowwidth": 1
          },
          "autotypenumbers": "strict",
          "coloraxis": {
           "colorbar": {
            "outlinewidth": 0,
            "ticks": ""
           }
          },
          "colorscale": {
           "diverging": [
            [
             0,
             "#8e0152"
            ],
            [
             0.1,
             "#c51b7d"
            ],
            [
             0.2,
             "#de77ae"
            ],
            [
             0.3,
             "#f1b6da"
            ],
            [
             0.4,
             "#fde0ef"
            ],
            [
             0.5,
             "#f7f7f7"
            ],
            [
             0.6,
             "#e6f5d0"
            ],
            [
             0.7,
             "#b8e186"
            ],
            [
             0.8,
             "#7fbc41"
            ],
            [
             0.9,
             "#4d9221"
            ],
            [
             1,
             "#276419"
            ]
           ],
           "sequential": [
            [
             0,
             "#0d0887"
            ],
            [
             0.1111111111111111,
             "#46039f"
            ],
            [
             0.2222222222222222,
             "#7201a8"
            ],
            [
             0.3333333333333333,
             "#9c179e"
            ],
            [
             0.4444444444444444,
             "#bd3786"
            ],
            [
             0.5555555555555556,
             "#d8576b"
            ],
            [
             0.6666666666666666,
             "#ed7953"
            ],
            [
             0.7777777777777778,
             "#fb9f3a"
            ],
            [
             0.8888888888888888,
             "#fdca26"
            ],
            [
             1,
             "#f0f921"
            ]
           ],
           "sequentialminus": [
            [
             0,
             "#0d0887"
            ],
            [
             0.1111111111111111,
             "#46039f"
            ],
            [
             0.2222222222222222,
             "#7201a8"
            ],
            [
             0.3333333333333333,
             "#9c179e"
            ],
            [
             0.4444444444444444,
             "#bd3786"
            ],
            [
             0.5555555555555556,
             "#d8576b"
            ],
            [
             0.6666666666666666,
             "#ed7953"
            ],
            [
             0.7777777777777778,
             "#fb9f3a"
            ],
            [
             0.8888888888888888,
             "#fdca26"
            ],
            [
             1,
             "#f0f921"
            ]
           ]
          },
          "colorway": [
           "#636efa",
           "#EF553B",
           "#00cc96",
           "#ab63fa",
           "#FFA15A",
           "#19d3f3",
           "#FF6692",
           "#B6E880",
           "#FF97FF",
           "#FECB52"
          ],
          "font": {
           "color": "#2a3f5f"
          },
          "geo": {
           "bgcolor": "white",
           "lakecolor": "white",
           "landcolor": "#E5ECF6",
           "showlakes": true,
           "showland": true,
           "subunitcolor": "white"
          },
          "hoverlabel": {
           "align": "left"
          },
          "hovermode": "closest",
          "mapbox": {
           "style": "light"
          },
          "paper_bgcolor": "white",
          "plot_bgcolor": "#E5ECF6",
          "polar": {
           "angularaxis": {
            "gridcolor": "white",
            "linecolor": "white",
            "ticks": ""
           },
           "bgcolor": "#E5ECF6",
           "radialaxis": {
            "gridcolor": "white",
            "linecolor": "white",
            "ticks": ""
           }
          },
          "scene": {
           "xaxis": {
            "backgroundcolor": "#E5ECF6",
            "gridcolor": "white",
            "gridwidth": 2,
            "linecolor": "white",
            "showbackground": true,
            "ticks": "",
            "zerolinecolor": "white"
           },
           "yaxis": {
            "backgroundcolor": "#E5ECF6",
            "gridcolor": "white",
            "gridwidth": 2,
            "linecolor": "white",
            "showbackground": true,
            "ticks": "",
            "zerolinecolor": "white"
           },
           "zaxis": {
            "backgroundcolor": "#E5ECF6",
            "gridcolor": "white",
            "gridwidth": 2,
            "linecolor": "white",
            "showbackground": true,
            "ticks": "",
            "zerolinecolor": "white"
           }
          },
          "shapedefaults": {
           "line": {
            "color": "#2a3f5f"
           }
          },
          "ternary": {
           "aaxis": {
            "gridcolor": "white",
            "linecolor": "white",
            "ticks": ""
           },
           "baxis": {
            "gridcolor": "white",
            "linecolor": "white",
            "ticks": ""
           },
           "bgcolor": "#E5ECF6",
           "caxis": {
            "gridcolor": "white",
            "linecolor": "white",
            "ticks": ""
           }
          },
          "title": {
           "x": 0.05
          },
          "xaxis": {
           "automargin": true,
           "gridcolor": "white",
           "linecolor": "white",
           "ticks": "",
           "title": {
            "standoff": 15
           },
           "zerolinecolor": "white",
           "zerolinewidth": 2
          },
          "yaxis": {
           "automargin": true,
           "gridcolor": "white",
           "linecolor": "white",
           "ticks": "",
           "title": {
            "standoff": 15
           },
           "zerolinecolor": "white",
           "zerolinewidth": 2
          }
         }
        },
        "title": {
         "text": "Clusters (k=4)"
        }
       }
      },
      "text/html": [
       "<div>                            <div id=\"c27f8598-9ef2-46fc-b080-9f2ffc30109e\" class=\"plotly-graph-div\" style=\"height:525px; width:100%;\"></div>            <script type=\"text/javascript\">                require([\"plotly\"], function(Plotly) {                    window.PLOTLYENV=window.PLOTLYENV || {};                                    if (document.getElementById(\"c27f8598-9ef2-46fc-b080-9f2ffc30109e\")) {                    Plotly.newPlot(                        \"c27f8598-9ef2-46fc-b080-9f2ffc30109e\",                        [{\"customdata\":[[39],[81],[6],[77],[40],[76],[6],[94],[3],[72],[14],[99],[15],[77],[13],[79],[35],[66],[29],[98],[35],[73],[5],[73],[14],[82],[32],[61],[31],[87],[4],[73],[4],[92],[14],[81],[17],[73],[26],[75],[35],[92],[36],[61],[28],[65],[55],[47],[42],[42],[52],[60],[54],[60],[45],[41],[50],[46],[51],[46],[56],[55],[52],[59],[51],[59],[50],[48],[59],[47],[55],[42],[49],[56],[47],[54],[53],[48],[52],[42],[51],[55],[41],[44],[57],[46],[58],[55],[60],[46],[55],[41],[49],[40],[42],[52],[47],[50],[42],[49],[41],[48],[59],[55],[56],[42],[50],[46],[43],[48],[52],[54],[42],[46],[48],[50],[43],[59],[43],[57],[56],[40],[58],[91],[29],[77],[35],[95],[11],[75],[9],[75],[34],[71],[5],[88],[7],[73],[10],[72],[5],[93],[40],[87],[12],[97],[36],[74],[22],[90],[17],[88],[20],[76],[16],[89],[1],[78],[1],[73],[35],[83],[5],[93],[26],[75],[20],[95],[27],[63],[13],[75],[10],[92],[13],[86],[15],[69],[14],[90],[32],[86],[15],[88],[39],[97],[24],[68],[17],[85],[23],[69],[8],[91],[16],[79],[28],[74],[18],[83]],\"dimensions\":[{\"axis\":{\"matches\":true},\"label\":\"Age\",\"values\":[19,21,20,23,31,22,35,23,64,30,67,35,58,24,37,22,35,20,52,35,35,25,46,31,54,29,45,35,40,23,60,21,53,18,49,21,42,30,36,20,65,24,48,31,49,24,50,27,29,31,49,33,31,59,50,47,51,69,27,53,70,19,67,54,63,18,43,68,19,32,70,47,60,60,59,26,45,40,23,49,57,38,67,46,21,48,55,22,34,50,68,18,48,40,32,24,47,27,48,20,23,49,67,26,49,21,66,54,68,66,65,19,38,19,18,19,63,49,51,50,27,38,40,39,23,31,43,40,59,38,47,39,25,31,20,29,44,32,19,35,57,32,28,32,25,28,48,32,34,34,43,39,44,38,47,27,37,30,34,30,56,29,19,31,50,36,42,33,36,32,40,28,36,36,52,30,58,27,59,35,37,32,46,29,41,30,54,28,41,36,34,32,33,38,47,35,45,32,32,30]},{\"axis\":{\"matches\":true},\"label\":\"Annual Income (k$)\",\"values\":[15,15,16,16,17,17,18,18,19,19,19,19,20,20,20,20,21,21,23,23,24,24,25,25,28,28,28,28,29,29,30,30,33,33,33,33,34,34,37,37,38,38,39,39,39,39,40,40,40,40,42,42,43,43,43,43,44,44,46,46,46,46,47,47,48,48,48,48,48,48,49,49,50,50,54,54,54,54,54,54,54,54,54,54,54,54,57,57,58,58,59,59,60,60,60,60,60,60,61,61,62,62,62,62,62,62,63,63,63,63,63,63,64,64,65,65,65,65,67,67,67,67,69,69,70,70,71,71,71,71,71,71,72,72,73,73,73,73,74,74,75,75,76,76,77,77,77,77,78,78,78,78,78,78,78,78,78,78,78,78,79,79,81,81,85,85,86,86,87,87,87,87,87,87,88,88,88,88,93,93,97,97,98,98,99,99,101,101,103,103,103,103,113,113,120,120,126,126,137,137]},{\"axis\":{\"matches\":true},\"label\":\"Gender\",\"values\":[\"Male\",\"Male\",\"Female\",\"Female\",\"Female\",\"Female\",\"Female\",\"Female\",\"Male\",\"Female\",\"Male\",\"Female\",\"Female\",\"Female\",\"Male\",\"Male\",\"Female\",\"Male\",\"Male\",\"Female\",\"Male\",\"Male\",\"Female\",\"Male\",\"Female\",\"Male\",\"Female\",\"Male\",\"Female\",\"Female\",\"Male\",\"Female\",\"Male\",\"Male\",\"Female\",\"Female\",\"Female\",\"Female\",\"Female\",\"Female\",\"Female\",\"Male\",\"Male\",\"Female\",\"Female\",\"Female\",\"Female\",\"Female\",\"Female\",\"Female\",\"Female\",\"Male\",\"Female\",\"Male\",\"Female\",\"Male\",\"Female\",\"Male\",\"Female\",\"Male\",\"Male\",\"Male\",\"Female\",\"Female\",\"Male\",\"Male\",\"Female\",\"Female\",\"Male\",\"Female\",\"Male\",\"Female\",\"Female\",\"Female\",\"Male\",\"Male\",\"Female\",\"Male\",\"Female\",\"Female\",\"Male\",\"Male\",\"Male\",\"Female\",\"Female\",\"Male\",\"Female\",\"Female\",\"Female\",\"Female\",\"Female\",\"Male\",\"Male\",\"Female\",\"Female\",\"Male\",\"Female\",\"Female\",\"Male\",\"Male\",\"Female\",\"Female\",\"Male\",\"Male\",\"Male\",\"Female\",\"Female\",\"Male\",\"Male\",\"Male\",\"Male\",\"Female\",\"Female\",\"Male\",\"Female\",\"Female\",\"Female\",\"Female\",\"Female\",\"Female\",\"Male\",\"Female\",\"Female\",\"Male\",\"Female\",\"Female\",\"Male\",\"Male\",\"Male\",\"Male\",\"Male\",\"Male\",\"Female\",\"Female\",\"Male\",\"Female\",\"Female\",\"Male\",\"Male\",\"Female\",\"Female\",\"Male\",\"Female\",\"Female\",\"Male\",\"Male\",\"Male\",\"Female\",\"Female\",\"Male\",\"Male\",\"Male\",\"Female\",\"Female\",\"Female\",\"Female\",\"Male\",\"Female\",\"Male\",\"Female\",\"Female\",\"Female\",\"Male\",\"Female\",\"Male\",\"Female\",\"Male\",\"Female\",\"Female\",\"Male\",\"Male\",\"Male\",\"Male\",\"Male\",\"Female\",\"Female\",\"Male\",\"Male\",\"Male\",\"Male\",\"Female\",\"Female\",\"Male\",\"Female\",\"Female\",\"Male\",\"Female\",\"Male\",\"Female\",\"Female\",\"Female\",\"Female\",\"Male\",\"Female\",\"Female\",\"Female\",\"Female\",\"Male\",\"Male\",\"Male\"]}],\"hovertemplate\":\"%{xaxis.title.text}=%{x}\\u003cbr\\u003e%{yaxis.title.text}=%{y}\\u003cbr\\u003eSpending Score (1-100)=%{customdata[0]}\\u003cbr\\u003ecluster=%{marker.color}\\u003cextra\\u003e\\u003c\\u002fextra\\u003e\",\"legendgroup\":\"\",\"marker\":{\"color\":[3,3,2,2,2,2,2,2,1,2,1,2,2,2,3,3,2,3,1,2,3,3,2,3,2,3,2,3,2,2,1,2,1,3,2,2,2,2,2,2,1,3,1,2,2,2,2,2,2,2,2,3,2,1,2,1,2,1,2,1,1,3,1,2,1,3,2,1,3,2,1,2,1,1,1,3,2,3,2,2,1,3,1,2,2,1,0,2,2,0,1,3,1,0,2,3,0,2,1,3,2,0,1,3,1,2,1,1,1,1,1,2,0,3,2,2,1,0,0,0,3,0,0,3,0,0,3,3,1,3,1,3,0,0,3,0,0,3,3,0,0,3,0,0,3,3,1,0,0,3,3,3,0,0,0,0,3,0,3,0,0,0,3,0,1,0,3,0,0,3,3,3,3,3,0,0,1,3,1,3,0,0,3,0,0,3,0,3,0,0,0,0,3,0,0,0,0,3,3,3],\"coloraxis\":\"coloraxis\",\"symbol\":\"circle\"},\"name\":\"\",\"showlegend\":false,\"type\":\"splom\"}],                        {\"template\":{\"data\":{\"histogram2dcontour\":[{\"type\":\"histogram2dcontour\",\"colorbar\":{\"outlinewidth\":0,\"ticks\":\"\"},\"colorscale\":[[0.0,\"#0d0887\"],[0.1111111111111111,\"#46039f\"],[0.2222222222222222,\"#7201a8\"],[0.3333333333333333,\"#9c179e\"],[0.4444444444444444,\"#bd3786\"],[0.5555555555555556,\"#d8576b\"],[0.6666666666666666,\"#ed7953\"],[0.7777777777777778,\"#fb9f3a\"],[0.8888888888888888,\"#fdca26\"],[1.0,\"#f0f921\"]]}],\"choropleth\":[{\"type\":\"choropleth\",\"colorbar\":{\"outlinewidth\":0,\"ticks\":\"\"}}],\"histogram2d\":[{\"type\":\"histogram2d\",\"colorbar\":{\"outlinewidth\":0,\"ticks\":\"\"},\"colorscale\":[[0.0,\"#0d0887\"],[0.1111111111111111,\"#46039f\"],[0.2222222222222222,\"#7201a8\"],[0.3333333333333333,\"#9c179e\"],[0.4444444444444444,\"#bd3786\"],[0.5555555555555556,\"#d8576b\"],[0.6666666666666666,\"#ed7953\"],[0.7777777777777778,\"#fb9f3a\"],[0.8888888888888888,\"#fdca26\"],[1.0,\"#f0f921\"]]}],\"heatmap\":[{\"type\":\"heatmap\",\"colorbar\":{\"outlinewidth\":0,\"ticks\":\"\"},\"colorscale\":[[0.0,\"#0d0887\"],[0.1111111111111111,\"#46039f\"],[0.2222222222222222,\"#7201a8\"],[0.3333333333333333,\"#9c179e\"],[0.4444444444444444,\"#bd3786\"],[0.5555555555555556,\"#d8576b\"],[0.6666666666666666,\"#ed7953\"],[0.7777777777777778,\"#fb9f3a\"],[0.8888888888888888,\"#fdca26\"],[1.0,\"#f0f921\"]]}],\"heatmapgl\":[{\"type\":\"heatmapgl\",\"colorbar\":{\"outlinewidth\":0,\"ticks\":\"\"},\"colorscale\":[[0.0,\"#0d0887\"],[0.1111111111111111,\"#46039f\"],[0.2222222222222222,\"#7201a8\"],[0.3333333333333333,\"#9c179e\"],[0.4444444444444444,\"#bd3786\"],[0.5555555555555556,\"#d8576b\"],[0.6666666666666666,\"#ed7953\"],[0.7777777777777778,\"#fb9f3a\"],[0.8888888888888888,\"#fdca26\"],[1.0,\"#f0f921\"]]}],\"contourcarpet\":[{\"type\":\"contourcarpet\",\"colorbar\":{\"outlinewidth\":0,\"ticks\":\"\"}}],\"contour\":[{\"type\":\"contour\",\"colorbar\":{\"outlinewidth\":0,\"ticks\":\"\"},\"colorscale\":[[0.0,\"#0d0887\"],[0.1111111111111111,\"#46039f\"],[0.2222222222222222,\"#7201a8\"],[0.3333333333333333,\"#9c179e\"],[0.4444444444444444,\"#bd3786\"],[0.5555555555555556,\"#d8576b\"],[0.6666666666666666,\"#ed7953\"],[0.7777777777777778,\"#fb9f3a\"],[0.8888888888888888,\"#fdca26\"],[1.0,\"#f0f921\"]]}],\"surface\":[{\"type\":\"surface\",\"colorbar\":{\"outlinewidth\":0,\"ticks\":\"\"},\"colorscale\":[[0.0,\"#0d0887\"],[0.1111111111111111,\"#46039f\"],[0.2222222222222222,\"#7201a8\"],[0.3333333333333333,\"#9c179e\"],[0.4444444444444444,\"#bd3786\"],[0.5555555555555556,\"#d8576b\"],[0.6666666666666666,\"#ed7953\"],[0.7777777777777778,\"#fb9f3a\"],[0.8888888888888888,\"#fdca26\"],[1.0,\"#f0f921\"]]}],\"mesh3d\":[{\"type\":\"mesh3d\",\"colorbar\":{\"outlinewidth\":0,\"ticks\":\"\"}}],\"scatter\":[{\"fillpattern\":{\"fillmode\":\"overlay\",\"size\":10,\"solidity\":0.2},\"type\":\"scatter\"}],\"parcoords\":[{\"type\":\"parcoords\",\"line\":{\"colorbar\":{\"outlinewidth\":0,\"ticks\":\"\"}}}],\"scatterpolargl\":[{\"type\":\"scatterpolargl\",\"marker\":{\"colorbar\":{\"outlinewidth\":0,\"ticks\":\"\"}}}],\"bar\":[{\"error_x\":{\"color\":\"#2a3f5f\"},\"error_y\":{\"color\":\"#2a3f5f\"},\"marker\":{\"line\":{\"color\":\"#E5ECF6\",\"width\":0.5},\"pattern\":{\"fillmode\":\"overlay\",\"size\":10,\"solidity\":0.2}},\"type\":\"bar\"}],\"scattergeo\":[{\"type\":\"scattergeo\",\"marker\":{\"colorbar\":{\"outlinewidth\":0,\"ticks\":\"\"}}}],\"scatterpolar\":[{\"type\":\"scatterpolar\",\"marker\":{\"colorbar\":{\"outlinewidth\":0,\"ticks\":\"\"}}}],\"histogram\":[{\"marker\":{\"pattern\":{\"fillmode\":\"overlay\",\"size\":10,\"solidity\":0.2}},\"type\":\"histogram\"}],\"scattergl\":[{\"type\":\"scattergl\",\"marker\":{\"colorbar\":{\"outlinewidth\":0,\"ticks\":\"\"}}}],\"scatter3d\":[{\"type\":\"scatter3d\",\"line\":{\"colorbar\":{\"outlinewidth\":0,\"ticks\":\"\"}},\"marker\":{\"colorbar\":{\"outlinewidth\":0,\"ticks\":\"\"}}}],\"scattermapbox\":[{\"type\":\"scattermapbox\",\"marker\":{\"colorbar\":{\"outlinewidth\":0,\"ticks\":\"\"}}}],\"scatterternary\":[{\"type\":\"scatterternary\",\"marker\":{\"colorbar\":{\"outlinewidth\":0,\"ticks\":\"\"}}}],\"scattercarpet\":[{\"type\":\"scattercarpet\",\"marker\":{\"colorbar\":{\"outlinewidth\":0,\"ticks\":\"\"}}}],\"carpet\":[{\"aaxis\":{\"endlinecolor\":\"#2a3f5f\",\"gridcolor\":\"white\",\"linecolor\":\"white\",\"minorgridcolor\":\"white\",\"startlinecolor\":\"#2a3f5f\"},\"baxis\":{\"endlinecolor\":\"#2a3f5f\",\"gridcolor\":\"white\",\"linecolor\":\"white\",\"minorgridcolor\":\"white\",\"startlinecolor\":\"#2a3f5f\"},\"type\":\"carpet\"}],\"table\":[{\"cells\":{\"fill\":{\"color\":\"#EBF0F8\"},\"line\":{\"color\":\"white\"}},\"header\":{\"fill\":{\"color\":\"#C8D4E3\"},\"line\":{\"color\":\"white\"}},\"type\":\"table\"}],\"barpolar\":[{\"marker\":{\"line\":{\"color\":\"#E5ECF6\",\"width\":0.5},\"pattern\":{\"fillmode\":\"overlay\",\"size\":10,\"solidity\":0.2}},\"type\":\"barpolar\"}],\"pie\":[{\"automargin\":true,\"type\":\"pie\"}]},\"layout\":{\"autotypenumbers\":\"strict\",\"colorway\":[\"#636efa\",\"#EF553B\",\"#00cc96\",\"#ab63fa\",\"#FFA15A\",\"#19d3f3\",\"#FF6692\",\"#B6E880\",\"#FF97FF\",\"#FECB52\"],\"font\":{\"color\":\"#2a3f5f\"},\"hovermode\":\"closest\",\"hoverlabel\":{\"align\":\"left\"},\"paper_bgcolor\":\"white\",\"plot_bgcolor\":\"#E5ECF6\",\"polar\":{\"bgcolor\":\"#E5ECF6\",\"angularaxis\":{\"gridcolor\":\"white\",\"linecolor\":\"white\",\"ticks\":\"\"},\"radialaxis\":{\"gridcolor\":\"white\",\"linecolor\":\"white\",\"ticks\":\"\"}},\"ternary\":{\"bgcolor\":\"#E5ECF6\",\"aaxis\":{\"gridcolor\":\"white\",\"linecolor\":\"white\",\"ticks\":\"\"},\"baxis\":{\"gridcolor\":\"white\",\"linecolor\":\"white\",\"ticks\":\"\"},\"caxis\":{\"gridcolor\":\"white\",\"linecolor\":\"white\",\"ticks\":\"\"}},\"coloraxis\":{\"colorbar\":{\"outlinewidth\":0,\"ticks\":\"\"}},\"colorscale\":{\"sequential\":[[0.0,\"#0d0887\"],[0.1111111111111111,\"#46039f\"],[0.2222222222222222,\"#7201a8\"],[0.3333333333333333,\"#9c179e\"],[0.4444444444444444,\"#bd3786\"],[0.5555555555555556,\"#d8576b\"],[0.6666666666666666,\"#ed7953\"],[0.7777777777777778,\"#fb9f3a\"],[0.8888888888888888,\"#fdca26\"],[1.0,\"#f0f921\"]],\"sequentialminus\":[[0.0,\"#0d0887\"],[0.1111111111111111,\"#46039f\"],[0.2222222222222222,\"#7201a8\"],[0.3333333333333333,\"#9c179e\"],[0.4444444444444444,\"#bd3786\"],[0.5555555555555556,\"#d8576b\"],[0.6666666666666666,\"#ed7953\"],[0.7777777777777778,\"#fb9f3a\"],[0.8888888888888888,\"#fdca26\"],[1.0,\"#f0f921\"]],\"diverging\":[[0,\"#8e0152\"],[0.1,\"#c51b7d\"],[0.2,\"#de77ae\"],[0.3,\"#f1b6da\"],[0.4,\"#fde0ef\"],[0.5,\"#f7f7f7\"],[0.6,\"#e6f5d0\"],[0.7,\"#b8e186\"],[0.8,\"#7fbc41\"],[0.9,\"#4d9221\"],[1,\"#276419\"]]},\"xaxis\":{\"gridcolor\":\"white\",\"linecolor\":\"white\",\"ticks\":\"\",\"title\":{\"standoff\":15},\"zerolinecolor\":\"white\",\"automargin\":true,\"zerolinewidth\":2},\"yaxis\":{\"gridcolor\":\"white\",\"linecolor\":\"white\",\"ticks\":\"\",\"title\":{\"standoff\":15},\"zerolinecolor\":\"white\",\"automargin\":true,\"zerolinewidth\":2},\"scene\":{\"xaxis\":{\"backgroundcolor\":\"#E5ECF6\",\"gridcolor\":\"white\",\"linecolor\":\"white\",\"showbackground\":true,\"ticks\":\"\",\"zerolinecolor\":\"white\",\"gridwidth\":2},\"yaxis\":{\"backgroundcolor\":\"#E5ECF6\",\"gridcolor\":\"white\",\"linecolor\":\"white\",\"showbackground\":true,\"ticks\":\"\",\"zerolinecolor\":\"white\",\"gridwidth\":2},\"zaxis\":{\"backgroundcolor\":\"#E5ECF6\",\"gridcolor\":\"white\",\"linecolor\":\"white\",\"showbackground\":true,\"ticks\":\"\",\"zerolinecolor\":\"white\",\"gridwidth\":2}},\"shapedefaults\":{\"line\":{\"color\":\"#2a3f5f\"}},\"annotationdefaults\":{\"arrowcolor\":\"#2a3f5f\",\"arrowhead\":0,\"arrowwidth\":1},\"geo\":{\"bgcolor\":\"white\",\"landcolor\":\"#E5ECF6\",\"subunitcolor\":\"white\",\"showland\":true,\"showlakes\":true,\"lakecolor\":\"white\"},\"title\":{\"x\":0.05},\"mapbox\":{\"style\":\"light\"}}},\"coloraxis\":{\"colorbar\":{\"title\":{\"text\":\"cluster\"}},\"colorscale\":[[0.0,\"#0d0887\"],[0.1111111111111111,\"#46039f\"],[0.2222222222222222,\"#7201a8\"],[0.3333333333333333,\"#9c179e\"],[0.4444444444444444,\"#bd3786\"],[0.5555555555555556,\"#d8576b\"],[0.6666666666666666,\"#ed7953\"],[0.7777777777777778,\"#fb9f3a\"],[0.8888888888888888,\"#fdca26\"],[1.0,\"#f0f921\"]]},\"legend\":{\"tracegroupgap\":0},\"title\":{\"text\":\"Clusters (k=4)\"},\"dragmode\":\"select\"},                        {\"responsive\": true}                    ).then(function(){\n",
       "                            \n",
       "var gd = document.getElementById('c27f8598-9ef2-46fc-b080-9f2ffc30109e');\n",
       "var x = new MutationObserver(function (mutations, observer) {{\n",
       "        var display = window.getComputedStyle(gd).display;\n",
       "        if (!display || display === 'none') {{\n",
       "            console.log([gd, 'removed!']);\n",
       "            Plotly.purge(gd);\n",
       "            observer.disconnect();\n",
       "        }}\n",
       "}});\n",
       "\n",
       "// Listen for the removal of the full notebook cells\n",
       "var notebookContainer = gd.closest('#notebook-container');\n",
       "if (notebookContainer) {{\n",
       "    x.observe(notebookContainer, {childList: true});\n",
       "}}\n",
       "\n",
       "// Listen for the clearing of the current output cell\n",
       "var outputEl = gd.closest('.output');\n",
       "if (outputEl) {{\n",
       "    x.observe(outputEl, {childList: true});\n",
       "}}\n",
       "\n",
       "                        })                };                });            </script>        </div>"
      ]
     },
     "metadata": {},
     "output_type": "display_data"
    }
   ],
   "source": [
    "visualize_clusters(data,labels,4)"
   ]
  },
  {
   "cell_type": "code",
   "execution_count": 117,
   "id": "8e088bf4",
   "metadata": {},
   "outputs": [],
   "source": [
    "def elbow_method(X, max_clusters):\n",
    "    \"\"\"\n",
    "    Calcule et affiche l'inertie pour différents nombres de clusters (méthode du coude).\n",
    "    Args:\n",
    "       X: Les données à regrouper (matrice numpy).\n",
    "       max_clusters: Le nombre maximum de clusters à tester.\n",
    "    \"\"\"\n",
    "    inertias = []\n",
    "    for k in range(2, max_clusters + 1):\n",
    "        kmeans = KMeans(n_clusters=k, random_state=42, n_init=10)\n",
    "        kmeans.fit(X)\n",
    "        # affiche la valeur inertia_, Plus la valeur de inertia_ est faible, meilleur est le clustering. \n",
    "        # Cela signifie que les points sont bien regroupés dans leurs clusters respectifs.\n",
    "        print(kmeans.inertia_)\n",
    "        inertias.append(kmeans.inertia_)\n",
    "\n",
    "\n",
    "    plt.figure(figsize=(8, 6))\n",
    "    plt.plot(range(2, max_clusters + 1), inertias, marker='o')\n",
    "    plt.xlabel(\"Nombre de clusters (k)\")\n",
    "    plt.ylabel(\"Inertie\")\n",
    "    plt.title(\"Méthode du coude pour déterminer le meilleur k\")\n",
    "    plt.grid(True)\n",
    "    plt.show()"
   ]
  },
  {
   "cell_type": "code",
   "execution_count": 118,
   "id": "3059eee7",
   "metadata": {},
   "outputs": [
    {
     "name": "stderr",
     "output_type": "stream",
     "text": [
      "C:\\Users\\pc\\anaconda3\\Lib\\site-packages\\sklearn\\cluster\\_kmeans.py:1436: UserWarning:\n",
      "\n",
      "KMeans is known to have a memory leak on Windows with MKL, when there are less chunks than available threads. You can avoid it by setting the environment variable OMP_NUM_THREADS=1.\n",
      "\n"
     ]
    },
    {
     "name": "stdout",
     "output_type": "stream",
     "text": [
      "398.62261890894285\n"
     ]
    },
    {
     "name": "stderr",
     "output_type": "stream",
     "text": [
      "C:\\Users\\pc\\anaconda3\\Lib\\site-packages\\sklearn\\cluster\\_kmeans.py:1436: UserWarning:\n",
      "\n",
      "KMeans is known to have a memory leak on Windows with MKL, when there are less chunks than available threads. You can avoid it by setting the environment variable OMP_NUM_THREADS=1.\n",
      "\n"
     ]
    },
    {
     "name": "stdout",
     "output_type": "stream",
     "text": [
      "309.1249680136411\n"
     ]
    },
    {
     "name": "stderr",
     "output_type": "stream",
     "text": [
      "C:\\Users\\pc\\anaconda3\\Lib\\site-packages\\sklearn\\cluster\\_kmeans.py:1436: UserWarning:\n",
      "\n",
      "KMeans is known to have a memory leak on Windows with MKL, when there are less chunks than available threads. You can avoid it by setting the environment variable OMP_NUM_THREADS=1.\n",
      "\n"
     ]
    },
    {
     "name": "stdout",
     "output_type": "stream",
     "text": [
      "236.6300953379336\n"
     ]
    },
    {
     "data": {
      "image/png": "[encoded data removed]",
      "text/plain": [
       "<Figure size 800x600 with 1 Axes>"
      ]
     },
     "metadata": {},
     "output_type": "display_data"
    }
   ],
   "source": [
    "elbow_method(data_pre,4)"
   ]
  },
  {
   "cell_type": "code",
   "execution_count": null,
   "id": "23aaf42d",
   "metadata": {},
   "outputs": [],
   "source": []
  }
 ],
 "metadata": {
  "kernelspec": {
   "display_name": "Python 3 (ipykernel)",
   "language": "python",
   "name": "python3"
  },
  "language_info": {
   "codemirror_mode": {
    "name": "ipython",
    "version": 3
   },
   "file_extension": ".py",
   "mimetype": "text/x-python",
   "name": "python",
   "nbconvert_exporter": "python",
   "pygments_lexer": "ipython3",
   "version": "3.11.5"
  }
 },
 "nbformat": 4,
 "nbformat_minor": 5
}
